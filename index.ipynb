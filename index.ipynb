{
 "cells": [
  {
   "cell_type": "code",
   "execution_count": 32,
   "metadata": {},
   "outputs": [],
   "source": [
    "# import libary\n",
    "import pandas as pd\n",
    "import pyodbc\n",
    "import os\n",
    "from tabulate import tabulate"
   ]
  },
  {
   "cell_type": "code",
   "execution_count": 33,
   "metadata": {},
   "outputs": [],
   "source": [
    "# Import SQL and setting PD\n",
    "def open_query(sqlname):\n",
    "    curent_dir = os.getcwd()\n",
    "    name_path = os.path.join(curent_dir, f\"{sqlname}.sql\")\n",
    "    with open(name_path, \"r\") as file:\n",
    "        sql_query = file.read()\n",
    "    return sql_query\n",
    "\n",
    "def create_conn(server, database):\n",
    "    conn = pyodbc.connect(\n",
    "        \"DRIVER={SQL Server};Server=\"\n",
    "        + server\n",
    "        + \";DATABASE=\"\n",
    "        + database\n",
    "        + \";Trusted_Connection=yes;\"\n",
    "    )\n",
    "    return conn\n",
    "\n",
    "def printDf(df):\n",
    "    print(tabulate(df, headers=\"keys\", tablefmt=\"psql\", floatfmt=\".2f\"))"
   ]
  },
  {
   "cell_type": "code",
   "execution_count": 34,
   "metadata": {},
   "outputs": [],
   "source": [
    "# fungsi point dan KPI Final\n",
    "\n",
    "def getPoint(tiring1, tiring2):\n",
    "    points = {\n",
    "        0: [0],\n",
    "        0: [0],\n",
    "        0: [0],\n",
    "        0: [0],\n",
    "        0: [0],\n",
    "    }\n",
    "\n",
    "    for max_tiring1, list_tiring2 in points.items():\n",
    "        if tiring1 <= max_tiring1:\n",
    "            for point, max_tiring2 in enumerate(list_tiring2):\n",
    "                if tiring2 < max_tiring2:\n",
    "                    return point + 1\n",
    "            return 999\n"
   ]
  },
  {
   "cell_type": "code",
   "execution_count": 35,
   "metadata": {},
   "outputs": [],
   "source": [
    "# fungsi incentive reguler dan incentive extra\n",
    "\n",
    "def getbonus(tiring1, tiring2):\n",
    "\n",
    "    points = {\n",
    "        0: {\n",
    "            0: 0,\n",
    "            0: 0,\n",
    "            0: 0,\n",
    "            0: 0,\n",
    "            0: 0,\n",
    "            0: 0,\n",
    "        },\n",
    "    }\n",
    "\n",
    "    for max_tiring1, list_tiring2 in points.items():\n",
    "        if tiring1 <= max_tiring1:\n",
    "            for max_tiring2, mlp in sorted(list_tiring2.items(), reverse=True):\n",
    "                if tiring2 >= max_tiring2:\n",
    "                    return mlp, tiring2 * mlp\n",
    "            return 0, 0"
   ]
  },
  {
   "cell_type": "code",
   "execution_count": null,
   "metadata": {},
   "outputs": [],
   "source": [
    "# if __name__ == '__main__':\n",
    "\n",
    "connection = create_conn(\"server\", \"database\")\n",
    "sql_query = open_query(\"data_sql\")\n",
    "df_sql = pd.read_sql(sql_query, connection)\n",
    "\n",
    "# menambahkan kolom point kedalam df_sql\n",
    "def getpointreg():\n",
    "    df_sql[\"result11\"] = df_sql.apply(\n",
    "        lambda row: getPoint(row[\"tiring1\"], row[\"tiring1\"]), axis=1\n",
    "    )\n",
    "\n",
    "# menambahkan kolom incentive kedalam df_sql\n",
    "def getbonusreg():\n",
    "    df_sql[[\"result2\", \"result3\"]] = df_sql.apply(\n",
    "        lambda row: pd.Series(\n",
    "            getbonus(\n",
    "                row[\"tiring1\"],\n",
    "                row[\"tiring2\"] + row[\"tiring3\"],\n",
    "            )\n",
    "        ),\n",
    "        axis=1,\n",
    "    )\n",
    "\n",
    "    \n",
    "getpointreg()\n",
    "getbonusreg()\n"
   ]
  },
  {
   "cell_type": "code",
   "execution_count": null,
   "metadata": {},
   "outputs": [],
   "source": [
    "dfilter = df_sql[df_sql[\"id\"] == \"x\"]\n",
    "printDf(dfilter)"
   ]
  }
 ],
 "metadata": {
  "kernelspec": {
   "display_name": "Python 3",
   "language": "python",
   "name": "python3"
  },
  "language_info": {
   "codemirror_mode": {
    "name": "ipython",
    "version": 3
   },
   "file_extension": ".py",
   "mimetype": "text/x-python",
   "name": "python",
   "nbconvert_exporter": "python",
   "pygments_lexer": "ipython3",
   "version": "3.11.4"
  }
 },
 "nbformat": 4,
 "nbformat_minor": 2
}
